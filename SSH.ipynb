{
 "cells": [
  {
   "cell_type": "markdown",
   "id": "fffa56af-f8ed-4cd2-850a-8206dfdbd8f2",
   "metadata": {},
   "source": [
    "# SSH Lab"
   ]
  },
  {
   "cell_type": "code",
   "execution_count": 23,
   "id": "10064e7c-4a17-495f-94e9-34038423f815",
   "metadata": {},
   "outputs": [
    {
     "name": "stdout",
     "output_type": "stream",
     "text": [
      "Requirement already satisfied: paramiko in c:\\users\\bios-yewenas\\anaconda3\\lib\\site-packages (2.8.1)\n",
      "Requirement already satisfied: bcrypt>=3.1.3 in c:\\users\\bios-yewenas\\anaconda3\\lib\\site-packages (from paramiko) (3.2.0)\n",
      "Requirement already satisfied: cryptography>=2.5 in c:\\users\\bios-yewenas\\anaconda3\\lib\\site-packages (from paramiko) (43.0.0)\n",
      "Requirement already satisfied: pynacl>=1.0.1 in c:\\users\\bios-yewenas\\anaconda3\\lib\\site-packages (from paramiko) (1.5.0)\n",
      "Requirement already satisfied: cffi>=1.1 in c:\\users\\bios-yewenas\\anaconda3\\lib\\site-packages (from bcrypt>=3.1.3->paramiko) (1.17.1)\n",
      "Requirement already satisfied: six>=1.4.1 in c:\\users\\bios-yewenas\\anaconda3\\lib\\site-packages (from bcrypt>=3.1.3->paramiko) (1.16.0)\n",
      "Requirement already satisfied: pycparser in c:\\users\\bios-yewenas\\anaconda3\\lib\\site-packages (from cffi>=1.1->bcrypt>=3.1.3->paramiko) (2.21)\n"
     ]
    }
   ],
   "source": [
    "!pip install paramiko"
   ]
  },
  {
   "cell_type": "markdown",
   "id": "865e8b4f-d634-47e8-a75c-0946d236bac0",
   "metadata": {},
   "source": [
    "### Paramiko SSH Login Using python programming"
   ]
  },
  {
   "cell_type": "code",
   "execution_count": 26,
   "id": "0ddda53f-a6d6-4fef-b178-278c9f0e3305",
   "metadata": {},
   "outputs": [
    {
     "name": "stderr",
     "output_type": "stream",
     "text": [
      "Socket exception: An existing connection was forcibly closed by the remote host (10054)\n"
     ]
    },
    {
     "ename": "ConnectionResetError",
     "evalue": "[WinError 10054] An existing connection was forcibly closed by the remote host",
     "output_type": "error",
     "traceback": [
      "\u001b[1;31m---------------------------------------------------------------------------\u001b[0m",
      "\u001b[1;31mConnectionResetError\u001b[0m                      Traceback (most recent call last)",
      "Cell \u001b[1;32mIn[26], line 5\u001b[0m\n\u001b[0;32m      3\u001b[0m ssh \u001b[38;5;241m=\u001b[39m paramiko\u001b[38;5;241m.\u001b[39mSSHClient() \n\u001b[0;32m      4\u001b[0m ssh\u001b[38;5;241m.\u001b[39mset_missing_host_key_policy(paramiko\u001b[38;5;241m.\u001b[39mAutoAddPolicy()) \n\u001b[1;32m----> 5\u001b[0m ssh\u001b[38;5;241m.\u001b[39mconnect(hostname\u001b[38;5;241m=\u001b[39m\u001b[38;5;124m'\u001b[39m\u001b[38;5;124m192.168.146.100\u001b[39m\u001b[38;5;124m'\u001b[39m,port\u001b[38;5;241m=\u001b[39m\u001b[38;5;241m22\u001b[39m,username\u001b[38;5;241m=\u001b[39m\u001b[38;5;124m'\u001b[39m\u001b[38;5;124mpython\u001b[39m\u001b[38;5;124m'\u001b[39m,key_filename\u001b[38;5;241m=\u001b[39m\u001b[38;5;124mr\u001b[39m\u001b[38;5;124m'\u001b[39m\u001b[38;5;124mC:\u001b[39m\u001b[38;5;124m\\\u001b[39m\u001b[38;5;124mUsers\u001b[39m\u001b[38;5;124m\\\u001b[39m\u001b[38;5;124mBIOS-YEWENAS\u001b[39m\u001b[38;5;124m\\\u001b[39m\u001b[38;5;124m.ssh\u001b[39m\u001b[38;5;124m\\\u001b[39m\u001b[38;5;124mid_rsa\u001b[39m\u001b[38;5;124m'\u001b[39m) \n\u001b[0;32m      6\u001b[0m cli \u001b[38;5;241m=\u001b[39m ssh\u001b[38;5;241m.\u001b[39minvoke_shell() \n\u001b[0;32m      7\u001b[0m cli\u001b[38;5;241m.\u001b[39msend(\u001b[38;5;124m'\u001b[39m\u001b[38;5;124mscreen-length 0 temporary\u001b[39m\u001b[38;5;130;01m\\n\u001b[39;00m\u001b[38;5;124m'\u001b[39m) \n",
      "File \u001b[1;32m~\\anaconda3\\Lib\\site-packages\\paramiko\\client.py:435\u001b[0m, in \u001b[0;36mSSHClient.connect\u001b[1;34m(self, hostname, port, username, password, pkey, key_filename, timeout, allow_agent, look_for_keys, compress, sock, gss_auth, gss_kex, gss_deleg_creds, gss_host, banner_timeout, auth_timeout, gss_trust_dns, passphrase, disabled_algorithms)\u001b[0m\n\u001b[0;32m    432\u001b[0m \u001b[38;5;28;01melse\u001b[39;00m:\n\u001b[0;32m    433\u001b[0m     key_filenames \u001b[38;5;241m=\u001b[39m key_filename\n\u001b[1;32m--> 435\u001b[0m \u001b[38;5;28mself\u001b[39m\u001b[38;5;241m.\u001b[39m_auth(\n\u001b[0;32m    436\u001b[0m     username,\n\u001b[0;32m    437\u001b[0m     password,\n\u001b[0;32m    438\u001b[0m     pkey,\n\u001b[0;32m    439\u001b[0m     key_filenames,\n\u001b[0;32m    440\u001b[0m     allow_agent,\n\u001b[0;32m    441\u001b[0m     look_for_keys,\n\u001b[0;32m    442\u001b[0m     gss_auth,\n\u001b[0;32m    443\u001b[0m     gss_kex,\n\u001b[0;32m    444\u001b[0m     gss_deleg_creds,\n\u001b[0;32m    445\u001b[0m     t\u001b[38;5;241m.\u001b[39mgss_host,\n\u001b[0;32m    446\u001b[0m     passphrase,\n\u001b[0;32m    447\u001b[0m )\n",
      "File \u001b[1;32m~\\anaconda3\\Lib\\site-packages\\paramiko\\client.py:766\u001b[0m, in \u001b[0;36mSSHClient._auth\u001b[1;34m(self, username, password, pkey, key_filenames, allow_agent, look_for_keys, gss_auth, gss_kex, gss_deleg_creds, gss_host, passphrase)\u001b[0m\n\u001b[0;32m    764\u001b[0m \u001b[38;5;66;03m# if we got an auth-failed exception earlier, re-raise it\u001b[39;00m\n\u001b[0;32m    765\u001b[0m \u001b[38;5;28;01mif\u001b[39;00m saved_exception \u001b[38;5;129;01mis\u001b[39;00m \u001b[38;5;129;01mnot\u001b[39;00m \u001b[38;5;28;01mNone\u001b[39;00m:\n\u001b[1;32m--> 766\u001b[0m     \u001b[38;5;28;01mraise\u001b[39;00m saved_exception\n\u001b[0;32m    767\u001b[0m \u001b[38;5;28;01mraise\u001b[39;00m SSHException(\u001b[38;5;124m\"\u001b[39m\u001b[38;5;124mNo authentication methods available\u001b[39m\u001b[38;5;124m\"\u001b[39m)\n",
      "File \u001b[1;32m~\\anaconda3\\Lib\\site-packages\\paramiko\\client.py:742\u001b[0m, in \u001b[0;36mSSHClient._auth\u001b[1;34m(self, username, password, pkey, key_filenames, allow_agent, look_for_keys, gss_auth, gss_kex, gss_deleg_creds, gss_host, passphrase)\u001b[0m\n\u001b[0;32m    736\u001b[0m key \u001b[38;5;241m=\u001b[39m \u001b[38;5;28mself\u001b[39m\u001b[38;5;241m.\u001b[39m_key_from_filepath(\n\u001b[0;32m    737\u001b[0m     filename, pkey_class, passphrase\n\u001b[0;32m    738\u001b[0m )\n\u001b[0;32m    739\u001b[0m \u001b[38;5;66;03m# for 2-factor auth a successfully auth'd key will result\u001b[39;00m\n\u001b[0;32m    740\u001b[0m \u001b[38;5;66;03m# in ['password']\u001b[39;00m\n\u001b[0;32m    741\u001b[0m allowed_types \u001b[38;5;241m=\u001b[39m \u001b[38;5;28mset\u001b[39m(\n\u001b[1;32m--> 742\u001b[0m     \u001b[38;5;28mself\u001b[39m\u001b[38;5;241m.\u001b[39m_transport\u001b[38;5;241m.\u001b[39mauth_publickey(username, key)\n\u001b[0;32m    743\u001b[0m )\n\u001b[0;32m    744\u001b[0m two_factor \u001b[38;5;241m=\u001b[39m allowed_types \u001b[38;5;241m&\u001b[39m two_factor_types\n\u001b[0;32m    745\u001b[0m \u001b[38;5;28;01mif\u001b[39;00m \u001b[38;5;129;01mnot\u001b[39;00m two_factor:\n",
      "File \u001b[1;32m~\\anaconda3\\Lib\\site-packages\\paramiko\\transport.py:1580\u001b[0m, in \u001b[0;36mTransport.auth_publickey\u001b[1;34m(self, username, key, event)\u001b[0m\n\u001b[0;32m   1577\u001b[0m \u001b[38;5;28;01mif\u001b[39;00m event \u001b[38;5;129;01mis\u001b[39;00m \u001b[38;5;129;01mnot\u001b[39;00m \u001b[38;5;28;01mNone\u001b[39;00m:\n\u001b[0;32m   1578\u001b[0m     \u001b[38;5;66;03m# caller wants to wait for event themselves\u001b[39;00m\n\u001b[0;32m   1579\u001b[0m     \u001b[38;5;28;01mreturn\u001b[39;00m []\n\u001b[1;32m-> 1580\u001b[0m \u001b[38;5;28;01mreturn\u001b[39;00m \u001b[38;5;28mself\u001b[39m\u001b[38;5;241m.\u001b[39mauth_handler\u001b[38;5;241m.\u001b[39mwait_for_response(my_event)\n",
      "File \u001b[1;32m~\\anaconda3\\Lib\\site-packages\\paramiko\\auth_handler.py:236\u001b[0m, in \u001b[0;36mAuthHandler.wait_for_response\u001b[1;34m(self, event)\u001b[0m\n\u001b[0;32m    234\u001b[0m     \u001b[38;5;28;01mif\u001b[39;00m (e \u001b[38;5;129;01mis\u001b[39;00m \u001b[38;5;28;01mNone\u001b[39;00m) \u001b[38;5;129;01mor\u001b[39;00m \u001b[38;5;28missubclass\u001b[39m(e\u001b[38;5;241m.\u001b[39m\u001b[38;5;18m__class__\u001b[39m, \u001b[38;5;167;01mEOFError\u001b[39;00m):\n\u001b[0;32m    235\u001b[0m         e \u001b[38;5;241m=\u001b[39m AuthenticationException(\u001b[38;5;124m\"\u001b[39m\u001b[38;5;124mAuthentication failed.\u001b[39m\u001b[38;5;124m\"\u001b[39m)\n\u001b[1;32m--> 236\u001b[0m     \u001b[38;5;28;01mraise\u001b[39;00m e\n\u001b[0;32m    237\u001b[0m \u001b[38;5;28;01mif\u001b[39;00m event\u001b[38;5;241m.\u001b[39mis_set():\n\u001b[0;32m    238\u001b[0m     \u001b[38;5;28;01mbreak\u001b[39;00m\n",
      "File \u001b[1;32m~\\anaconda3\\Lib\\site-packages\\paramiko\\transport.py:2055\u001b[0m, in \u001b[0;36mTransport.run\u001b[1;34m(self)\u001b[0m\n\u001b[0;32m   2053\u001b[0m     \u001b[38;5;28mself\u001b[39m\u001b[38;5;241m.\u001b[39m_send_kex_init()\n\u001b[0;32m   2054\u001b[0m \u001b[38;5;28;01mtry\u001b[39;00m:\n\u001b[1;32m-> 2055\u001b[0m     ptype, m \u001b[38;5;241m=\u001b[39m \u001b[38;5;28mself\u001b[39m\u001b[38;5;241m.\u001b[39mpacketizer\u001b[38;5;241m.\u001b[39mread_message()\n\u001b[0;32m   2056\u001b[0m \u001b[38;5;28;01mexcept\u001b[39;00m NeedRekeyException:\n\u001b[0;32m   2057\u001b[0m     \u001b[38;5;28;01mcontinue\u001b[39;00m\n",
      "File \u001b[1;32m~\\anaconda3\\Lib\\site-packages\\paramiko\\packet.py:494\u001b[0m, in \u001b[0;36mPacketizer.read_message\u001b[1;34m(self)\u001b[0m\n\u001b[0;32m    492\u001b[0m \u001b[38;5;28;01mif\u001b[39;00m (packet_size \u001b[38;5;241m-\u001b[39m \u001b[38;5;28mlen\u001b[39m(leftover)) \u001b[38;5;241m%\u001b[39m \u001b[38;5;28mself\u001b[39m\u001b[38;5;241m.\u001b[39m__block_size_in \u001b[38;5;241m!=\u001b[39m \u001b[38;5;241m0\u001b[39m:\n\u001b[0;32m    493\u001b[0m     \u001b[38;5;28;01mraise\u001b[39;00m SSHException(\u001b[38;5;124m\"\u001b[39m\u001b[38;5;124mInvalid packet blocking\u001b[39m\u001b[38;5;124m\"\u001b[39m)\n\u001b[1;32m--> 494\u001b[0m buf \u001b[38;5;241m=\u001b[39m \u001b[38;5;28mself\u001b[39m\u001b[38;5;241m.\u001b[39mread_all(\n\u001b[0;32m    495\u001b[0m     packet_size \u001b[38;5;241m+\u001b[39m \u001b[38;5;28mself\u001b[39m\u001b[38;5;241m.\u001b[39m__mac_size_in \u001b[38;5;241m-\u001b[39m \u001b[38;5;28mlen\u001b[39m(leftover)\n\u001b[0;32m    496\u001b[0m )\n\u001b[0;32m    497\u001b[0m packet \u001b[38;5;241m=\u001b[39m buf[: packet_size \u001b[38;5;241m-\u001b[39m \u001b[38;5;28mlen\u001b[39m(leftover)]\n\u001b[0;32m    498\u001b[0m post_packet \u001b[38;5;241m=\u001b[39m buf[packet_size \u001b[38;5;241m-\u001b[39m \u001b[38;5;28mlen\u001b[39m(leftover) :]\n",
      "File \u001b[1;32m~\\anaconda3\\Lib\\site-packages\\paramiko\\packet.py:301\u001b[0m, in \u001b[0;36mPacketizer.read_all\u001b[1;34m(self, n, check_rekey)\u001b[0m\n\u001b[0;32m    299\u001b[0m     \u001b[38;5;28;01mraise\u001b[39;00m \u001b[38;5;167;01mEOFError\u001b[39;00m()\n\u001b[0;32m    300\u001b[0m \u001b[38;5;28;01mtry\u001b[39;00m:\n\u001b[1;32m--> 301\u001b[0m     x \u001b[38;5;241m=\u001b[39m \u001b[38;5;28mself\u001b[39m\u001b[38;5;241m.\u001b[39m__socket\u001b[38;5;241m.\u001b[39mrecv(n)\n\u001b[0;32m    302\u001b[0m     \u001b[38;5;28;01mif\u001b[39;00m \u001b[38;5;28mlen\u001b[39m(x) \u001b[38;5;241m==\u001b[39m \u001b[38;5;241m0\u001b[39m:\n\u001b[0;32m    303\u001b[0m         \u001b[38;5;28;01mraise\u001b[39;00m \u001b[38;5;167;01mEOFError\u001b[39;00m()\n",
      "\u001b[1;31mConnectionResetError\u001b[0m: [WinError 10054] An existing connection was forcibly closed by the remote host"
     ]
    }
   ],
   "source": [
    "import paramiko \n",
    "import time \n",
    "ssh = paramiko.SSHClient() \n",
    "ssh.set_missing_host_key_policy(paramiko.AutoAddPolicy()) \n",
    "ssh.connect(hostname='192.168.146.100',port=22,username='python',key_filename=r'C:\\Users\\BIOS-YEWENAS\\.ssh\\id_rsa') \n",
    "cli = ssh.invoke_shell() \n",
    "cli.send('screen-length 0 temporary\\n') \n",
    "cli.send('display cu\\n') \n",
    "time.sleep(3) \n",
    "dis_cu = cli.recv(999999).decode() \n",
    "print(dis_cu) \n",
    "ssh.close()"
   ]
  },
  {
   "cell_type": "code",
   "execution_count": null,
   "id": "719b124c-65c9-489d-9129-6bc57b80b21e",
   "metadata": {},
   "outputs": [],
   "source": []
  },
  {
   "cell_type": "code",
   "execution_count": null,
   "id": "ca3c7080-235a-4c65-a24e-b5e169365b1d",
   "metadata": {},
   "outputs": [],
   "source": []
  }
 ],
 "metadata": {
  "kernelspec": {
   "display_name": "Python 3 (ipykernel)",
   "language": "python",
   "name": "python3"
  },
  "language_info": {
   "codemirror_mode": {
    "name": "ipython",
    "version": 3
   },
   "file_extension": ".py",
   "mimetype": "text/x-python",
   "name": "python",
   "nbconvert_exporter": "python",
   "pygments_lexer": "ipython3",
   "version": "3.12.7"
  }
 },
 "nbformat": 4,
 "nbformat_minor": 5
}
