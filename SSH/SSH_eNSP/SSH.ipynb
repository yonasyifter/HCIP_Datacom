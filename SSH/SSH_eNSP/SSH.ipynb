{
 "cells": [
  {
   "cell_type": "markdown",
   "id": "54a176d9-4424-410b-9c0e-fb7a213abf38",
   "metadata": {},
   "source": [
    "# SSH LAB -01"
   ]
  },
  {
   "cell_type": "markdown",
   "id": "0bd3aa28-0517-4ffb-959b-b51a85fa5cdc",
   "metadata": {},
   "source": [
    "### CE 12800 configuration"
   ]
  },
  {
   "cell_type": "raw",
   "id": "95735279-dd76-4907-bd6f-4bb3eafa0338",
   "metadata": {},
   "source": [
    " local-user yonass password irreversible-cipher $1c$jJmwS+eF(Z$6-G:QtkUw>%ZufJ&5\n",
    "E}FLX=wSO6>a$W~MuSR&SHN$\n",
    " local-user yonass service-type ssh\n",
    " local-user yonass user-group manage-ug\n",
    " #\n",
    " authentication-scheme default\n",
    " #\n",
    " authorization-scheme default\n",
    " #\n",
    " accounting-scheme default\n",
    " #\n",
    " domain default\n",
    " #\n",
    " domain default_admin\n",
    "#\n",
    "interface Vlanif1\n",
    " ip address 192.168.146.100 255.255.255.0\n",
    "#\n",
    "interface MEth0/0/0\n",
    " undo shutdown\n",
    "#\n",
    "interface GE1/0/0\n",
    " undo shutdown\n",
    "#\n",
    "interface GE1/0/1\n",
    " shutdown\n",
    "#\n",
    "interface GE1/0/2\n",
    " shutdown\n",
    "#\n",
    "interface GE1/0/3\n",
    " shutdown\n",
    "#\n",
    "interface GE1/0/4\n",
    " shutdown\n",
    "#\n",
    "interface GE1/0/5\n",
    " shutdown\n",
    "#\n",
    "interface GE1/0/6\n",
    " shutdown\n",
    "#\n",
    "interface GE1/0/7\n",
    " shutdown\n",
    "#\n",
    "interface GE1/0/8\n",
    " shutdown\n",
    "#\n",
    "interface GE1/0/9\n",
    " shutdown\n",
    "#\n",
    "interface NULL0\n",
    "#\n",
    "stelnet server enable\n",
    "ssh user yonass\n",
    "ssh user yonass authentication-type rsa\n",
    "ssh user yonass service-type stelnet\n",
    "ssh authorization-type default aaa\n",
    "#\n",
    "ssh server cipher aes256_gcm aes128_gcm aes256_ctr aes192_ctr aes128_ctr aes256_\n",
    "cbc aes128_cbc 3des_cbc\n",
    "#\n",
    "ssh server dh-exchange min-len 1024\n",
    "#\n",
    "ssh client cipher aes256_gcm aes128_gcm aes256_ctr aes192_ctr aes128_ctr aes256_\n",
    "cbc aes128_cbc 3des_cbc\n",
    "#\n",
    "user-interface con 0\n",
    "#\n",
    "user-interface vty 0 4\n",
    " authentication-mode aaa\n",
    " user privilege level 3\n",
    " protocol inbound ssh\n",
    "#\n",
    "vm-manager\n",
    "#\n",
    "return\n",
    "<SSH Server>ping 192.168.146.100\n",
    "  PING 192.168.146.100: 56  data bytes, press CTRL_C to break\n",
    "    Reply from 192.168.146.100: bytes=56 Sequence=1 ttl=255 time=5 ms\n",
    "    Reply from 192.168.146.100: bytes=56 Sequence=2 ttl=255 time=1 ms\n",
    "    Reply from 192.168.146.100: bytes=56 Sequence=3 ttl=255 time=1 ms\n",
    "    Reply from 192.168.146.100: bytes=56 Sequence=4 ttl=255 time=1 ms\n",
    "    Reply from 192.168.146.100: bytes=56 Sequence=5 ttl=255 time=1 ms\n",
    "\n",
    "  --- 192.168.146.100 ping statistics ---\n",
    "    5 packet(s) transmitted\n",
    "    5 packet(s) received\n",
    "    0.00% packet loss\n",
    "    round-trip min/avg/max = 1/1/5 ms\n",
    " \n",
    "<SSH Server>sys\n",
    "Enter system view, return user view with return command.\n",
    "[~SSH Server]rsa ?\n",
    "  key-pair         The key pair\n",
    "  local-key-pair   Local RSA public key pair operations\n",
    "  peer-public-key  Remote peer RSA public key configuration\n",
    "\n",
    "[~SSH Server]rsa peer\t\n",
    "[~SSH Server]rsa peer-public-key ?\n",
    "  STRING<1-40>  Name of the public key\n",
    "\n",
    "[~SSH Server]rsa peer-public-key rsa01 ?\n",
    "  encoding-type  Encoding type of the remote peer's public key\n",
    "  <cr>           \n",
    "\n",
    "[~SSH Server]rsa peer-public-key rsa01 en\t\n",
    "[~SSH Server]rsa peer-public-key rsa01 encoding-type ?\n",
    "  der      DER encoded public key\n",
    "  openssh  OpenSSH encoded public key\n",
    "  pem      PEM encoded public key\n",
    "\n",
    "[~SSH Server]rsa peer-public-key rsa01 encoding-type ope\t\n",
    "[~SSH Server]rsa peer-public-key rsa01 encoding-type openssh \n",
    "Enter \"RSA public key\" view, and you can return the system view with \"peer-publi\n",
    "c-key end\".\n",
    "[*SSH Server-rsa-public-key]\n",
    "[*SSH Server-rsa-public-key]\n",
    "[*SSH Server-rsa-public-key]\n",
    "[*SSH Server-rsa-public-key]\n",
    "[*SSH Server-rsa-public-key]\n",
    "[*SSH Server-rsa-public-key]pub\t\n",
    "[*SSH Server-rsa-public-key]public-key-code begin\n",
    "Enter \"RSA key code\" view, and you can return the last view with \"public-key-cod\n",
    "e end\".\n",
    "[*SSH Server-rsa-public-key-rsa-key-code]\n",
    "[*SSH Server-rsa-public-key-rsa-key-code]\n",
    "[*SSH Server-rsa-public-key-rsa-key-code]\n",
    "[*SSH Server-rsa-public-key-rsa-key-code]\n",
    "[*SSH Server-rsa-public-key-rsa-key-code]\n",
    "[*SSH Server-rsa-public-key-rsa-key-code]ssh-rsa AAAAB3NzaC1yc2EAAAADAQABAAABgQC\n",
    "ZhNJyDPBx96I0nJWyRMRikUFDccIFCErx62l0+pSjxIkDOisbJp2d0lUxDl7SZX+vyMa96mqM2bLRBm4\n",
    "wRsHHi8z7tiNzyoeURMCBy2DY+BLTu+ZlGRp7EylD5ilWUyzDg/s2X8oFfNdUoJ7BXtcegyeSp7HxaTH\n",
    "ourhVBO+NSpuhLwhRFCPbwuNg3VCu+cfuYEI+u6poytgyxBkG4Ud/9OgzStbPGUkdRM4gL3MLDzj8V4Z\n",
    "L0aGdUEv/XrOjMi4n2L7tRsIz0C7aQX0iE5qdolH2uIrDfeL78uKmiUGO3bzIry17765Q04MDoxgjMQx\n",
    "jhH0BllBl2lAHsoRbAkqZrJtKBWoWMCF1gnbYDOA2amDSY/lUA6lfmKr12mOR5cllJCfNMe6veI/DaRt\n",
    "y5s+FB7fCgRTxm78/WbL1C+xIc80kUpjWiT723b7sHXyPJDIdji2vBZdWqZnd6Wo8MVLk0SLo8b+3oWM\n",
    "phuQzYzPTEAbVwaSYHoxnl6NP2iIDos8= BIOS-YEWENAS@DESKTOP-4E4PLK1\n",
    "[*SSH Server-rsa-public-key-rsa-key-code]pub\t\n",
    "[*SSH Server-rsa-public-key-rsa-key-code]public-key-code end\n",
    "[*SSH Server-rsa-public-key]peer\t\n",
    "[*SSH Server-rsa-public-key]peer-public-key end\n",
    "[*SSH Server]\n",
    "[*SSH Server]\n",
    "[*SSH Server]\n",
    "[*SSH Server]\n",
    "[*SSH Server]ssh user yonass assign rsa\t\n",
    "[*SSH Server]ssh user yonass assign rsa-key rsa01\n",
    "[*SSH Server]\n",
    "[*SSH Server]\n",
    "[*SSH Server]\n",
    "[*SSH Server]dis cu\n",
    "!Software Version V200R005C10SPC607B607\n",
    "!Last configuration was updated at 2025-05-28 09:56:22+00:00\n",
    "!Last configuration was saved at 2025-05-28 09:56:54+00:00\n",
    "#\n",
    "sysname SSH Server\n",
    "#\n",
    "device board 17 board-type CE-MPUB\n",
    "device board 1 board-type CE-LPUE\n",
    "#\n",
    "aaa\n",
    " local-user yonass password irreversible-cipher $1c$jJmwS+eF(Z$6-G:QtkUw>%ZufJ&5\n",
    "E}FLX=wSO6>a$W~MuSR&SHN$\n",
    " local-user yonass service-type ssh\n",
    " local-user yonass user-group manage-ug\n",
    " #\n",
    " authentication-scheme default\n",
    " #\n",
    " authorization-scheme default\n",
    " #\n",
    " accounting-scheme default\n",
    " #\n",
    " domain default\n",
    " #\n",
    " domain default_admin\n",
    "#\n",
    "interface Vlanif1\n",
    " ip address 192.168.146.100 255.255.255.0\n",
    "#\n",
    "interface MEth0/0/0\n",
    " undo shutdown\n",
    "#\n",
    "interface GE1/0/0\n",
    " undo shutdown\n",
    "#\n",
    "interface GE1/0/1\n",
    " shutdown\n",
    "#\n",
    "interface GE1/0/2\n",
    " shutdown\n",
    "#\n",
    "interface GE1/0/3\n",
    " shutdown\n",
    "#\n",
    "interface GE1/0/4\n",
    " shutdown\n",
    "#\n",
    "interface GE1/0/5\n",
    " shutdown\n",
    "#\n",
    "interface GE1/0/6\n",
    " shutdown\n",
    "#\n",
    "interface GE1/0/7\n",
    " shutdown\n",
    "#\n",
    "interface GE1/0/8\n",
    " shutdown\n",
    "#\n",
    "interface GE1/0/9\n",
    " shutdown\n",
    "#\n",
    "interface NULL0\n",
    "#\n",
    "stelnet server enable\n",
    "ssh user yonass\n",
    "ssh user yonass authentication-type rsa\n",
    "ssh user yonass service-type stelnet\n",
    "ssh authorization-type default aaa\n",
    "#\n",
    "ssh server cipher aes256_gcm aes128_gcm aes256_ctr aes192_ctr aes128_ctr aes256_\n",
    "cbc aes128_cbc 3des_cbc\n",
    "#\n",
    "ssh server dh-exchange min-len 1024\n",
    "#\n",
    "ssh client cipher aes256_gcm aes128_gcm aes256_ctr aes192_ctr aes128_ctr aes256_\n",
    "cbc aes128_cbc 3des_cbc\n",
    "#\n",
    "user-interface con 0\n",
    "#\n",
    "user-interface vty 0 4\n",
    " authentication-mode aaa\n",
    " user privilege level 3\n",
    " protocol inbound ssh\n",
    "#\n",
    "vm-manager\n",
    "#"
   ]
  },
  {
   "cell_type": "markdown",
   "id": "b78c8106-2dc4-4471-a1b1-32eb868226e2",
   "metadata": {},
   "source": [
    "# Python Automation code"
   ]
  },
  {
   "cell_type": "code",
   "execution_count": 22,
   "id": "b803f512-e8a2-4c1b-98cc-ffead52e582c",
   "metadata": {},
   "outputs": [
    {
     "name": "stdout",
     "output_type": "stream",
     "text": [
      "Requirement already satisfied: paramiko in c:\\users\\bios-yewenas\\anaconda3\\lib\\site-packages (2.8.1)\n",
      "Requirement already satisfied: bcrypt>=3.1.3 in c:\\users\\bios-yewenas\\anaconda3\\lib\\site-packages (from paramiko) (3.2.0)\n",
      "Requirement already satisfied: cryptography>=2.5 in c:\\users\\bios-yewenas\\anaconda3\\lib\\site-packages (from paramiko) (43.0.0)\n",
      "Requirement already satisfied: pynacl>=1.0.1 in c:\\users\\bios-yewenas\\anaconda3\\lib\\site-packages (from paramiko) (1.5.0)\n",
      "Requirement already satisfied: cffi>=1.1 in c:\\users\\bios-yewenas\\anaconda3\\lib\\site-packages (from bcrypt>=3.1.3->paramiko) (1.17.1)\n",
      "Requirement already satisfied: six>=1.4.1 in c:\\users\\bios-yewenas\\anaconda3\\lib\\site-packages (from bcrypt>=3.1.3->paramiko) (1.16.0)\n",
      "Requirement already satisfied: pycparser in c:\\users\\bios-yewenas\\anaconda3\\lib\\site-packages (from cffi>=1.1->bcrypt>=3.1.3->paramiko) (2.21)\n"
     ]
    }
   ],
   "source": [
    "! pip install paramiko"
   ]
  },
  {
   "cell_type": "code",
   "execution_count": 35,
   "id": "fb1cded2-3b4f-4ecf-adb9-8565632d8aa7",
   "metadata": {},
   "outputs": [],
   "source": [
    "import paramiko as p"
   ]
  },
  {
   "cell_type": "code",
   "execution_count": 36,
   "id": "d22db843-fc29-4df6-9996-0dd1cd37bcd1",
   "metadata": {},
   "outputs": [],
   "source": [
    "import time"
   ]
  },
  {
   "cell_type": "code",
   "execution_count": 37,
   "id": "f6f433c0-3417-4720-8a8a-90796d9dd69e",
   "metadata": {},
   "outputs": [],
   "source": [
    "ssh = p.SSHClient()\n",
    "ssh.set_missing_host_key_policy(p.AutoAddPolicy())"
   ]
  },
  {
   "cell_type": "code",
   "execution_count": 38,
   "id": "a0e63e68-9c76-45e9-9d79-85bc7e66d6ce",
   "metadata": {},
   "outputs": [],
   "source": [
    "ssh.connect(hostname='192.168.146.100', port=22, username='yonass', key_filename=r'C:\\Users\\BIOS-YEWENAS\\.ssh\\id_rsa')\n"
   ]
  },
  {
   "cell_type": "code",
   "execution_count": 39,
   "id": "6cee5d4a-ea02-4b60-818f-4f6f116278fa",
   "metadata": {},
   "outputs": [],
   "source": [
    "cli = ssh.invoke_shell()"
   ]
  },
  {
   "cell_type": "code",
   "execution_count": 40,
   "id": "54a8a1df-d4c8-44cb-aa8d-a3090538586d",
   "metadata": {},
   "outputs": [
    {
     "data": {
      "text/plain": [
       "23"
      ]
     },
     "execution_count": 40,
     "metadata": {},
     "output_type": "execute_result"
    }
   ],
   "source": [
    "cli.send('undo terminal monitor \\n')"
   ]
  },
  {
   "cell_type": "code",
   "execution_count": 41,
   "id": "42b1face-550d-4ef8-9452-9d81e89e9819",
   "metadata": {},
   "outputs": [
    {
     "data": {
      "text/plain": [
       "18"
      ]
     },
     "execution_count": 41,
     "metadata": {},
     "output_type": "execute_result"
    }
   ],
   "source": [
    "cli.send('vlan batch 10 20 \\n')"
   ]
  },
  {
   "cell_type": "code",
   "execution_count": 42,
   "id": "97e1b569-ee21-4808-acb7-5016327143ab",
   "metadata": {},
   "outputs": [],
   "source": [
    "cli.send('dis cu \\n')\n",
    "time.sleep(3)\n",
    "discu = cli.recv(999999).decode()"
   ]
  },
  {
   "cell_type": "code",
   "execution_count": 43,
   "id": "d50cb77a-b883-4ac5-b2cd-74870573cd09",
   "metadata": {},
   "outputs": [
    {
     "name": "stdout",
     "output_type": "stream",
     "text": [
      "\n",
      "Info: The max number of VTY users is 5, the number of current VTY users online is 1, and total number of terminal users online is 2.\n",
      "      The current login time is 2025-05-28 11:15:02.\n",
      "<SSH Server>undo terminal monitor \n",
      "Info: Current terminal monitor is off.\n",
      "<SSH Server>vlan batch 10 20 \n",
      "            ^\n",
      "Error: Unrecognized command found at '^' position.\n",
      "<SSH Server>dis cu \n",
      "!Software Version V200R005C10SPC607B607\n",
      "!Last configuration was updated at 2025-05-28 11:07:08+00:00\n",
      "!Last configuration was saved at 2025-05-28 11:07:17+00:00\n",
      "#\n",
      "sysname SSH Server\n",
      "#\n",
      "device board 17 board-type CE-MPUB\n",
      "device board 1 board-type CE-LPUE\n",
      "#\n",
      "rsa peer-public-key rsa01 encoding-type openssh\n",
      " public-key-code begin\n",
      "  ssh-rsa AAAAB3NzaC1yc2EAAAADAQABAAABgQCZhNJyDPBx96I0nJWyRMRikUFDccIFCErx62l0+pSj\n",
      "  xIkDOisbJp2d0lUxDl7SZX+vyMa96mqM2bLRBm4wRsHHi8z7tiNzyoeURMCBy2DY+BLTu+ZlGRp7EylD\n",
      "  5ilWUyzDg/s2X8oFfNdUoJ7BXtcegyeSp7HxaTHourhVBO+NSpuhLwhRFCPbwuNg3VCu+cfuYEI+u6po\n",
      "  ytgyxBkG4Ud/9OgzStbPGUkdRM4gL3MLDzj8V4ZL0aGdUEv/XrOjMi4n2L7tRsIz0C7aQX0iE5qdolH2\n",
      "  uIrDfeL78uKmiUGO3bzIry17765Q04MDoxgjMQxjhH0BllBl2lAHsoRbAkqZrJtKBWoWMCF1gnbYDOA2\n",
      "  amDSY/lUA6lfmKr12mOR5cllJCfNMe6veI/DaRty5s+FB7fCgRTxm78/WbL1C+xIc80kUpjWiT723b7s\n",
      "  HXyPJDIdji2vBZdWqZnd6Wo8MVLk0SLo8b+3oWMphuQzYzPTEAbVwaSYHoxnl6NP2iIDos8= rsa-key\n",
      "  \n",
      " public-key-code end\n",
      " peer-public-key end\n",
      "#\n",
      "aaa\n",
      "  ---- More ----\n"
     ]
    }
   ],
   "source": [
    "print(discu)\n",
    "ssh.close()"
   ]
  },
  {
   "cell_type": "code",
   "execution_count": null,
   "id": "7a3a8b68-218c-4236-a563-2e5e53f0a01e",
   "metadata": {},
   "outputs": [],
   "source": []
  },
  {
   "cell_type": "code",
   "execution_count": null,
   "id": "e00b3fc6-615a-454c-bfbc-3e1c2c85e71f",
   "metadata": {},
   "outputs": [],
   "source": []
  }
 ],
 "metadata": {
  "kernelspec": {
   "display_name": "Python 3 (ipykernel)",
   "language": "python",
   "name": "python3"
  },
  "language_info": {
   "codemirror_mode": {
    "name": "ipython",
    "version": 3
   },
   "file_extension": ".py",
   "mimetype": "text/x-python",
   "name": "python",
   "nbconvert_exporter": "python",
   "pygments_lexer": "ipython3",
   "version": "3.12.7"
  }
 },
 "nbformat": 4,
 "nbformat_minor": 5
}
